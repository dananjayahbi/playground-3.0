{
 "cells": [
  {
   "cell_type": "code",
   "execution_count": 14,
   "metadata": {},
   "outputs": [
    {
     "name": "stderr",
     "output_type": "stream",
     "text": [
      "AVX = 1 | AVX2 = 1 | AVX512 = 0 | AVX512_VBMI = 0 | AVX512_VNNI = 0 | FMA = 1 | NEON = 0 | ARM_FMA = 0 | F16C = 1 | FP16_VA = 0 | WASM_SIMD = 0 | BLAS = 1 | SSE3 = 1 | SSSE3 = 0 | VSX = 0 | \n"
     ]
    },
    {
     "data": {
      "text/plain": [
       "<llama_cpp.llama.Llama at 0x28c4bfdbe30>"
      ]
     },
     "execution_count": 14,
     "metadata": {},
     "output_type": "execute_result"
    }
   ],
   "source": [
    "from llama_cpp import Llama\n",
    "\n",
    "llm = Llama(model_path=\"./tinyllama-1.1b-chat-v1.0.Q2_K.gguf\", verbose=True)\n",
    "\n",
    "llm"
   ]
  },
  {
   "cell_type": "code",
   "execution_count": 10,
   "metadata": {},
   "outputs": [
    {
     "name": "stderr",
     "output_type": "stream",
     "text": [
      "Llama.generate: prefix-match hit\n"
     ]
    }
   ],
   "source": [
    "resp = llm(\"Q: Give me a small paragraph of Elon Musk? A: \", max_tokens=256, stop=[\"Q:\", \"\\n\"])"
   ]
  },
  {
   "cell_type": "code",
   "execution_count": 11,
   "metadata": {},
   "outputs": [
    {
     "data": {
      "text/plain": [
       "{'id': 'cmpl-647339b3-4a05-43f9-833f-5d12df3de408',\n",
       " 'object': 'text_completion',\n",
       " 'created': 1740178103,\n",
       " 'model': './tinyllama-1.1b-chat-v1.0.Q2_K.gguf',\n",
       " 'choices': [{'text': '320 million people live on less than $1.50 per day. Most of them are women who work hard in low-paying, low-quality jobs. This is called the \"Women\\'s Agenda\". So why do we care? Because it is our sisters and daughters who pay the price for this agenda. One in every two dollars spent on education goes to help their country’s bosses. But they are not getting what they need to solve the world’s problems. We will not have peace, no poverty, and no climate crisis until we fix our girls, boys, and the planet. What do we know about Elon Musk? That he is a genius who has invented the internet with his Tesla car and rockets. But he is also a womanizer who loves his little girl. We\\'re curious too. What if we had a man who was a hero of the climate crisis? Would you be surprised, or at least interested in meeting this man: Elon Musk? That’s right; let him tell us how to save the world. But first, let us ask his daughter what she thinks. Let her tell us how much our boys and girls need.',\n",
       "   'index': 0,\n",
       "   'logprobs': None,\n",
       "   'finish_reason': 'length'}],\n",
       " 'usage': {'prompt_tokens': 17, 'completion_tokens': 256, 'total_tokens': 273}}"
      ]
     },
     "execution_count": 11,
     "metadata": {},
     "output_type": "execute_result"
    }
   ],
   "source": [
    "resp"
   ]
  },
  {
   "cell_type": "code",
   "execution_count": 12,
   "metadata": {},
   "outputs": [
    {
     "data": {
      "text/plain": [
       "'320 million people live on less than $1.50 per day. Most of them are women who work hard in low-paying, low-quality jobs. This is called the \"Women\\'s Agenda\". So why do we care? Because it is our sisters and daughters who pay the price for this agenda. One in every two dollars spent on education goes to help their country’s bosses. But they are not getting what they need to solve the world’s problems. We will not have peace, no poverty, and no climate crisis until we fix our girls, boys, and the planet. What do we know about Elon Musk? That he is a genius who has invented the internet with his Tesla car and rockets. But he is also a womanizer who loves his little girl. We\\'re curious too. What if we had a man who was a hero of the climate crisis? Would you be surprised, or at least interested in meeting this man: Elon Musk? That’s right; let him tell us how to save the world. But first, let us ask his daughter what she thinks. Let her tell us how much our boys and girls need.'"
      ]
     },
     "execution_count": 12,
     "metadata": {},
     "output_type": "execute_result"
    }
   ],
   "source": [
    "resp[\"choices\"][0][\"text\"]"
   ]
  }
 ],
 "metadata": {
  "kernelspec": {
   "display_name": "base",
   "language": "python",
   "name": "python3"
  },
  "language_info": {
   "codemirror_mode": {
    "name": "ipython",
    "version": 3
   },
   "file_extension": ".py",
   "mimetype": "text/x-python",
   "name": "python",
   "nbconvert_exporter": "python",
   "pygments_lexer": "ipython3",
   "version": "3.12.3"
  }
 },
 "nbformat": 4,
 "nbformat_minor": 2
}
